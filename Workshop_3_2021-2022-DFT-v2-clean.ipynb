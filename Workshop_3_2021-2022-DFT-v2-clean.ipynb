{
 "cells": [
  {
   "cell_type": "markdown",
   "metadata": {
    "nbgrader": {
     "grade": false,
     "grade_id": "cell-4ba158673a862ad8",
     "locked": true,
     "schema_version": 3,
     "solution": false,
     "task": false
    }
   },
   "source": [
    "# CH413 Computational Workshop 3: \n",
    "# Predicting the stability of an oxygen-covered diamond(110) surface"
   ]
  },
  {
   "cell_type": "markdown",
   "metadata": {
    "nbgrader": {
     "grade": false,
     "grade_id": "cell-7161d605498db50d",
     "locked": true,
     "schema_version": 3,
     "solution": false,
     "task": false
    }
   },
   "source": [
    "**ATTENTION** This notebook contains our class workshop (Parts 1 and 2) **AND** the homework assignment (Part 3).\n",
    "\n",
    "This workshop has 3 parts.\n",
    "* **Part 1:** Calculating the adsorption energy of oxygen on diamond(110): \n",
    "* **Part 2:** Calculating stability phase diagrams for different oxygen-covered diamond phases \n",
    "* **Part 3:** Assessed Assignment\n",
    "\n",
    "This notebook contains only the Parts 1 and 2.\n",
    "\n",
    "To save existing calculations, you can assign variables to the numbers you've already calculated. This way you don't have to recalculate everything if you take breaks.\n",
    "\n",
    "\n",
    "### IMPORTANT - how to use this notebook\n",
    "* This notebook is read-only, so **you do need to make a copy first** (you can pick any name as this notebook is for your learning/reference only and won't be assessed)!\n",
    "* The notebook should not raise any errors, otherwise you won't be able to submit it. So, double-check for the source of errors and ask for help if needed.\n",
    "\n",
    "### For further instructions on the assignment, see Part 3\n",
    "\n",
    "<b>If you have any issues, contact Bora Karasulu (bora.karasulu@warwick.ac.uk)</b>"
   ]
  },
  {
   "cell_type": "markdown",
   "metadata": {
    "nbgrader": {
     "grade": false,
     "grade_id": "cell-e453642980c26812",
     "locked": true,
     "schema_version": 3,
     "solution": false,
     "task": false
    }
   },
   "source": [
    "## Part 0. Introduction"
   ]
  },
  {
   "cell_type": "markdown",
   "metadata": {
    "nbgrader": {
     "grade": false,
     "grade_id": "cell-f5e6fdd334926184",
     "locked": true,
     "schema_version": 3,
     "solution": false,
     "task": false
    }
   },
   "source": [
    "<p>In this workshop, we will be exploring Density Functional Theory (DFT) calculations and their application in surface chemistry. We will do this using the ASE and GPAW packages (Click on images to go to webpages):</p>\n",
    "\n",
    "<div style=\"display: flex;\">\n",
    "  <div style=\"flex: 40%;padding: 15px;\">\n",
    "    <a href=\"https://wiki.fysik.dtu.dk/ase/\"><img src=\"./Part3_DFT/ase.png\" width=\"80%\"></a>\n",
    "  </div>\n",
    "  <div style=\"flex: 40%;padding: 15px;\">\n",
    "     <a href=\"https://wiki.fysik.dtu.dk/gpaw/\"><img src=\"./Part3_DFT/gpaw.png\" width=\"100%\"></a>\n",
    "  </div>\n",
    "</div>\n",
    "\n",
    "\n",
    "<br> \n",
    "\n",
    "###  Part 0.1 - Atomic Simulation Environment (ASE)\n",
    "<b>ASE</b> is a Python package that provides simple workflows for computational chemistry and materials modeling tasks and interfaces with many different DFT software packages. ASE uses Python computer language to define what atoms and molecules are. It defines representations for molecules and materials, allows us to create, visualise, and manipulate them. It is also interfaced with main external DFT and other computational chemistry codes (actually more than 30 codes are currently supported, <a href=\"https://wiki.fysik.dtu.dk/ase/ase/calculators/calculators.html#module-ase.calculators\"> see this for a full list </a>). Here we will use GPAW among those available interfaces.\n",
    "\n",
    "Please take the time to have a look at some ASE tutorials (<a href=\"https://wiki.fysik.dtu.dk/ase/tutorials/tutorials.html\">here</a>)\n",
    "\n",
    "ASE packages can be installed very conveniently within the Python3 environment using the PiP tool, e.g. running 'pip install ase --user' in the command line.\n",
    "\n",
    "For example, we can define an oxygen molecule in ASE and visualise it conveniently inside this Jupyter notebook:"
   ]
  },
  {
   "cell_type": "code",
   "execution_count": null,
   "metadata": {
    "nbgrader": {
     "grade": false,
     "grade_id": "cell-8ce2e8204ae4d5eb",
     "locked": true,
     "schema_version": 3,
     "solution": false,
     "task": false
    }
   },
   "outputs": [],
   "source": [
    "from ase import Atoms\n",
    "from ase.visualize import view\n",
    "\n",
    "#We define a so-called Atoms object (\"collection of atoms\") with the chemical formula o2\n",
    "o2 = Atoms('O2', \n",
    "          positions = [\n",
    "              [0,0,0],   #x,y,z positions of 1st oxygen atom\n",
    "              [0,0,1.0], #x,y,z positions of 2nd oxygen atom at distance 1 Angstrom from 1st atom, molecule oriented in z direction\n",
    "          ],\n",
    "          )\n",
    "\n",
    "#TASK: try using 'ase-gui' command in the command line to access a more interactive ASE visualisation and modelling tools.\n",
    "#visualise o2\n",
    "#OPTION 1\n",
    "#If you don't put the viewer='x3d' option, it doesn't work on the Jupyter notebook as an external x11-terminal window (ASE-GUI) needs to opened.\n",
    "view(o2, viewer='x3d')\n",
    "#After executing this cell, you can interact with the viewer, rotate the molecule etc.\n",
    "\n"
   ]
  },
  {
   "cell_type": "code",
   "execution_count": null,
   "metadata": {},
   "outputs": [],
   "source": [
    "#OPTION 2: You can also set the viewer='ngl' option, which will call the NGL viewer interface (as introduced by Livia) instead of ASE-GUI (x3d); \n",
    "view(o2, viewer='ngl')\n",
    "#FYI: you could also try the long-way by properly importing the nglviewer as following (simply uncomment the following line):\n",
    "#import nglview as nv # visualisation\n",
    "#myview = nv.show_ase(o2)\n",
    "#myview.add_unitcell()\n",
    "#myview"
   ]
  },
  {
   "cell_type": "code",
   "execution_count": null,
   "metadata": {
    "nbgrader": {
     "grade": false,
     "grade_id": "cell-590ba056274441b2",
     "locked": true,
     "schema_version": 3,
     "solution": false,
     "task": false
    }
   },
   "outputs": [],
   "source": [
    "#OPTION 3: another way to visualize molecules with imolecule and openbabel\n",
    "#This looks slightly nicer on Jupyter Notebooks than the other options, by drawing bonds etc (but requires extra packages)\n",
    "#We will use this option below, so be sure to always import these packages.\n",
    "from imolecule.atoms_to_pybel import atoms_to_pybel as a2p\n",
    "from openbabel import pybel\n",
    "pybel.ipython_3d = True\n",
    "\n",
    "#We just pass the o2 object to this visualisation function\n",
    "a2p(o2)\n",
    "\n",
    "#Normally (when using command-line for doing DFT calculations using the ASE framework), I would recommend using \n",
    "#the 'ase-gui' command, providing a better control over visualisation and structure building/modifying options, \n",
    "#which is compatible with many file formats."
   ]
  },
  {
   "cell_type": "markdown",
   "metadata": {
    "nbgrader": {
     "grade": false,
     "grade_id": "cell-ea0416fedf45001b",
     "locked": true,
     "schema_version": 3,
     "solution": false,
     "task": false
    }
   },
   "source": [
    "We can use ASE to generate surface slab structures. Please take a look at this short ASE tutorial on <a href=\"https://wiki.fysik.dtu.dk/ase/tutorials/neb/diffusion.html\">Au on Al(001) </a>. This shows a worked example for Nudged-Elastic-Band (NEB) calculation to determine the energy profile with the activation energy for the Au atom diffusion from one hollow site of Al(100) surface to another.\n",
    "\n",
    "**TASK** After going through the tutorial, pick the relevant commands to generate the Au atom on Al(100) surface and paste them into the following cell (don't forget the import commands) and visualise the structure (use the same command as above)."
   ]
  },
  {
   "cell_type": "code",
   "execution_count": null,
   "metadata": {},
   "outputs": [],
   "source": [
    "##Use this code cell to create and visualise the Au on Al(100) system\n",
    "from ase.build import fcc100, add_adsorbate\n",
    "\n",
    "## INSERT HERE  \n",
    "\n",
    "# 2x2-Al(001) surface with 3 layers and an\n",
    "# Au atom adsorbed in a hollow site:\n",
    "slab = fcc100('Al', size=(2, 2, 3))\n",
    "add_adsorbate(slab, 'Au', 1.7, 'hollow')\n",
    "slab.center(axis=2, vacuum=4.0)\n",
    "\n",
    "\n",
    "####\n",
    "\n",
    "#Now visualise the slab (Note: uncomment to check different options)\n",
    "#view(slab,viewer=\"x3d\")\n",
    "#view(slab,viewer=\"ngl\")\n",
    "a2p(slab)\n",
    "\n",
    "##you can also repeat the slab unit cell for a better visibility\n",
    "#slab=slab.repeat((2,2,1)) #2x2\n",
    "##or simply use\n",
    "#a2p(slab*[2,2,1])\n",
    "\n",
    "#If you have correctly inserted statements from the ASE tutorial,\n",
    "#you should be able to see the surface, the molecule, and the edge of the unit cell"
   ]
  },
  {
   "cell_type": "markdown",
   "metadata": {
    "nbgrader": {
     "grade": false,
     "grade_id": "cell-ed7f922793f4ab97",
     "locked": true,
     "schema_version": 3,
     "solution": false,
     "task": false
    }
   },
   "source": [
    "### Part 0.2 - GPAW\n",
    "\n",
    "One of the software packages that can be interfaced with ASE is <b>GPAW</b> (an abbreviation for \"Grid-based Projector-Augmented-Waves\", which is the plane-wave basis set that GPAW uses). It is a Python/C++-based DFT code and can also handle the real-space, and LCAO basis sets (as discussed in Lecture 4). GPAW basis describes the Kohn-Sham DFT wave functions with a basis set that splits the core electrons and the valence electrons. Core electrons are \"frozen\" and described with projector-augmented waves (PAWs) - a formalism that is closely related to the pseudopotentials we discussed in the lecture. The valence electron states are described with a basis set. That basis set in GPAW is usually a uniform real-space grid. Each grid point is a \"basis function\". You can read more about this <a href=\"https://wiki.fysik.dtu.dk/gpaw/algorithms.html\">here</a>.\n",
    "\n",
    "GPAW defines a so-called \"*calculator*\" - a DFT engine that provides energies and forces to the \"*atoms*\" object. \n",
    "ASE and GPAW are linked by providing a GPAW calculator to the ASE atoms object.\n",
    "<br>\n",
    "Let's use GPAW to calculate the properties of the oxygen molecule:"
   ]
  },
  {
   "cell_type": "markdown",
   "metadata": {},
   "source": [
    "**REMEMBER:** If you restart from somewhere in the middle you need to first execute cells above that contain import statements or previous code that is required, e.g. o2 needs to be defined at this point\n"
   ]
  },
  {
   "cell_type": "code",
   "execution_count": null,
   "metadata": {
    "nbgrader": {
     "grade": false,
     "grade_id": "cell-abcc3ed2fab8ee36",
     "locked": true,
     "schema_version": 3,
     "solution": false,
     "task": false
    }
   },
   "outputs": [],
   "source": [
    "from ase import Atoms\n",
    "from ase.io import write\n",
    "from gpaw import GPAW\n",
    "\n",
    "#Let's use the o2 molecule we set up before\n",
    "\n",
    "print(o2) # This just shows that 'o2' is an Atoms object"
   ]
  },
  {
   "cell_type": "markdown",
   "metadata": {
    "nbgrader": {
     "grade": false,
     "grade_id": "cell-e65d52a3a90bcc0c",
     "locked": true,
     "schema_version": 3,
     "solution": false,
     "task": false
    }
   },
   "source": [
    "**ATTENTION**\n",
    "The print function shows that the o2 molecule currently doesn't have any periodic boundary conditions defined (pbc=False). We can not define a grid or plane-wave basis without periodic boundary conditions, because we need Born-von-Karman conditions and an infinite lattice (see Lecture 4). That means we first need to put the oxygen molecule in a big box (a so-called supercell)."
   ]
  },
  {
   "cell_type": "code",
   "execution_count": null,
   "metadata": {},
   "outputs": [],
   "source": [
    "#Let's take the o2 molecule and put it into a box\n",
    "#We simply \"give\" the molecule a unit cell defined by three lattice vectors a1, a2, a3\n",
    "\n",
    "a = 6.0\n",
    "cell = [\n",
    "    [a,0,0], #a1\n",
    "    [0,a,0], #a2\n",
    "    [0,0,a], #a3\n",
    "]\n",
    "o2 = Atoms('O2', \n",
    "          positions = [\n",
    "              [0,0,0],   #x,y,z positions of 1st oxygen atom\n",
    "              [0,0,1.0], #x,y,z positions of 2nd oxygen atom at distance 1 Angstrom from 1st atom, molecule oriented in z direction\n",
    "          ],\n",
    "          )\n",
    "\n",
    "#This is a cubic box with 6 Angstrom side length in all directions\n",
    "o2.set_cell(cell) #pass the cell to the o2 atoms object\n",
    "#Now we set the periodic boundary conditions to True in all three directions and we center the molecule in the cell\n",
    "o2.set_pbc([True,True,True])\n",
    "o2.center()\n",
    "print(o2)\n",
    "#view(o2,viewer=\"ngl\") #'x3d' needed\n",
    "\n",
    "#When we visualize o2, we can now see a box around it (Hurray!)\n",
    "a2p(o2)"
   ]
  },
  {
   "cell_type": "markdown",
   "metadata": {},
   "source": [
    "Now we create a GPAW calculator instance within ASE using the built-in Python interface of GPAW. See <a href=\"https://wiki.fysik.dtu.dk/gpaw/documentation/basic.html#parameters\">here</a> and <a href=\"https://wiki.fysik.dtu.dk/gpaw/\">here</a> for full ist of keywords and options."
   ]
  },
  {
   "cell_type": "code",
   "execution_count": null,
   "metadata": {
    "nbgrader": {
     "grade": false,
     "grade_id": "cell-42ad10b1f2cdddb7",
     "locked": true,
     "schema_version": 3,
     "solution": false,
     "task": false
    }
   },
   "outputs": [],
   "source": [
    "from gpaw import GPAW,PW\n",
    "\n",
    "#Let's set up a GPAW calculator. Here we need to choose numerical settings as discussed in the lecture.\n",
    "calc_o2 = GPAW(\n",
    "            mode ='fd', #The default is finite difference,This means that the wave functions will be expanded on a real space grid. Other options are: 'pw' and 'lcao' \n",
    "            #mode=PW(600), #we need to use planewaves to be able to claculate the stress hence the optimise the cell paramters.\n",
    "            h=0.25, # basis set defined by a grid spacing in Angstrom\n",
    "            xc=\"PBE\", #choice of exchange-correlation functional\n",
    "            kpts=(1,1,1), #k-grid sampling: here we only pick a single K point (the Gamma point)\n",
    "            #because we want to describe oxygen as a single molecule\n",
    "           )\n",
    "\n",
    "#h value: The grid spacing defines the basis set. We chose a grid spacing of 0.25 Angstrom in all directions. \n",
    "#The smaller the number, the finer the grid and the better the basis set is converged, \n",
    "#but also the more computationally costly the calculation becomes.\n",
    "\n",
    "#Now we \"pass\" the calculator to the ASE atoms instance for the o2 molecule\n",
    "o2.set_calculator(calc_o2)\n",
    "\n",
    "#Now we calculate the total energy for O2 using the GPAW calculator with the chosen settings. Please note that this is a single-point energy calculation using the initial geometry as defined above.\n",
    "etot_o2 = o2.get_potential_energy()\n",
    "print(\"etot\", etot_o2)\n",
    "#When running this cell, you should see BELOW a pop-up of the output file, where you can follow the calculation."
   ]
  },
  {
   "cell_type": "markdown",
   "metadata": {
    "nbgrader": {
     "grade": false,
     "grade_id": "cell-4949722e463988f2",
     "locked": true,
     "schema_version": 3,
     "solution": false,
     "task": false
    }
   },
   "source": [
    "**TASK**\n",
    "Carefully study the output that was generated by this DFT calculation.\n",
    "Look for following things:\n",
    "* A basic description of all settings and the geometry\n",
    "* The actual DFT calculation, where the Kohn-Sham (KS) equations are solved iteratively with many self-consistent field (SCF) iteration steps\n",
    "* The final total energy (in eV) and the energies and occupation numbers of the Kohn-Sham states\n",
    "\n",
    "**After this, we can now also optimise the bond distance of the O$_2$ molecule:**"
   ]
  },
  {
   "cell_type": "code",
   "execution_count": null,
   "metadata": {
    "nbgrader": {
     "grade": false,
     "grade_id": "cell-22027da727ffb77c",
     "locked": true,
     "schema_version": 3,
     "solution": false,
     "task": false
    }
   },
   "outputs": [],
   "source": [
    "#we import a geometry optimisation algorithm from ASE package (among many others available)\n",
    "from ase.optimize import BFGS\n",
    "#we apply it to the o2 molecule object (which contains the GPAW calculator)\n",
    "dyn = BFGS(o2,trajectory='o2_opt.traj')  \n",
    "#we run the optimisation, but before that, we pipe the GPAW text output into a file, so we're not overwhelmed by the GPAW output\n",
    "calc_o2.set(txt=\"o2_gpaw.txt\")\n",
    "dyn.run(fmax=0.05)\n",
    "#It might take a while (~1 min) to finish... Also note that if you run it again it will restart from the last point, so will take only one step to converge this time.\n",
    "\n",
    "etot_o2 = o2.get_potential_energy() # let's update the new optimised o2 energy\n"
   ]
  },
  {
   "cell_type": "code",
   "execution_count": null,
   "metadata": {},
   "outputs": [],
   "source": [
    "#Let's visualise the trajectory\n",
    "import ase.io\n",
    "steps=ase.io.read('o2_opt.traj',index=':') #read the trajectory from the .traj file, index option is needed for reading all time steps, by default last step is read.\n",
    "\n",
    "#a2p(steps) #does not support multi structures\n",
    "#view(steps,viewer='x3d') #does not support multi structures\n",
    "view(steps,viewer='ngl')\n"
   ]
  },
  {
   "cell_type": "markdown",
   "metadata": {
    "nbgrader": {
     "grade": false,
     "grade_id": "cell-4c712a54fa32cf6c",
     "locked": true,
     "schema_version": 3,
     "solution": false,
     "task": false
    }
   },
   "source": [
    "In each step of the geometry optimisation, the algorithm calculates the energy and forces from DFT and changes the geometry towards lower energy. This is repeated until the maximum force acting on the atoms is reduced to below the threshold value 0.05 eV/Angstrom. Let's check out the optimised bond distance:"
   ]
  },
  {
   "cell_type": "code",
   "execution_count": null,
   "metadata": {
    "nbgrader": {
     "grade": false,
     "grade_id": "cell-fc1ae03fb8a203bb",
     "locked": true,
     "schema_version": 3,
     "solution": false,
     "task": false
    }
   },
   "outputs": [],
   "source": [
    "print('bond distance in Angstrom', o2.get_distance(0,1))\n",
    "etot_o2 = o2.get_potential_energy() # let's update the new optimised o2 energy\n",
    "print('etot_o2', etot_o2)"
   ]
  },
  {
   "cell_type": "markdown",
   "metadata": {},
   "source": [
    "Before we start with the main tasks, let's look at the convergence concept using this simple O2 molecular system. Here we checked the convergence of the total energy with respect to the numerical basis-set grid spacing parameter. You may notice that the  single point energy calculation takes longer with lower grid spacing (means more grid points, more complex caluclations).\n",
    "\n",
    "**Attention**: You should only do a convergence test for a single parameter (e.g. plane-wave cutoff energy, Ecut, kpoint grid, basis-set grid spacing, etc.) at a time\n",
    "\n",
    "A sample convergence test input can be found on the GPAW website <a href=\"https://wiki.fysik.dtu.dk/gpaw/exercises/stress/stress.html#converging-the-plane-wave-cutoff\">click here.</a>"
   ]
  },
  {
   "cell_type": "code",
   "execution_count": null,
   "metadata": {
    "scrolled": false
   },
   "outputs": [],
   "source": [
    "#Doing a convergence test against the h spacing.\n",
    "\n",
    "import matplotlib.pyplot as plt\n",
    "%matplotlib notebook \n",
    "#this gives us an interactive graph with a cross hair (using the standard MatPlotLib package)\n",
    "\n",
    "from gpaw import PW,GPAW\n",
    "o2_copy=o2.copy()#let's preserve the original o2 object.\n",
    "\n",
    "Es=[] #store the total energy value for each h value.\n",
    "#for x in [100, 200, 300, 400, 500, 600, 700, 800]: #For checking the cutoff energy convergence for instance, to use this you need to switch to 'mode=PW(x)'\n",
    "hs=[0.30,0.25, 0.20, 0.18, 0.16, 0.14, 0.12,0.10,0.08] #TASK: try adding more steps to the end points to check the trends.\n",
    "for x in hs:\n",
    "    calc = GPAW(\n",
    "                #mode=PW(x),\n",
    "                mode='fd',\n",
    "                h=x,\n",
    "                xc='PBE',\n",
    "                kpts=(1,1,1), #As we are simualting an isolated molecule, we need to include a single point, which the Gamma (center) point.\n",
    "                txt='convergence_%s.txt' % x)\n",
    "\n",
    "    o2_copy.calc = calc\n",
    "    Es.append(o2_copy.get_potential_energy())\n",
    "    print(x, Es[-1])\n",
    "\n",
    "#Now do the plotting\n",
    "plt.plot(hs,Es)\n",
    "plt.xlim(max(hs),min(hs)) #Reverse the x axis, as the lower the grid size, the higher the accuracy is.\n",
    "plt.xlabel('Basis-set grid spacing [1/A]') \n",
    "#by the way, this is how you get latex math into the label, dont forget the r in front\n",
    "plt.ylabel(r'Total Energy [eV]')\n",
    "plt.show()"
   ]
  },
  {
   "cell_type": "markdown",
   "metadata": {},
   "source": [
    "One can see that the total energy sufficiently converges when using `Grid Spacing <= 0.1 1/A`. You should use a similar strategy for the other simulation models and parameters in the assessment."
   ]
  },
  {
   "cell_type": "markdown",
   "metadata": {},
   "source": [
    "### Let's see how we can do an electronic structure calculation (i.e. electronic DOS and band structure) for the bulk Silicon\n",
    "\n",
    "You can compare your results to the ones documented on the Materials Project Database website for this specific Si phase (see <a href=\"https://materialsproject.org/materials/mp-149/\">here</a>). The ASE/GPAW tuorial on electronic DOS band structure can also be useful (See <a href=\"https://wiki.fysik.dtu.dk/ase/gettingstarted/tut04_bulk/bulk.html\">here</a>).\n"
   ]
  },
  {
   "cell_type": "code",
   "execution_count": null,
   "metadata": {},
   "outputs": [],
   "source": [
    "\n",
    "#First we build the bulk Silicon\n",
    "from ase.build import bulk\n",
    "from ase import Atoms\n",
    "from ase.visualize import view\n",
    "from ase.io import read,write\n",
    "from gpaw import GPAW,PW\n",
    "\n",
    "from imolecule.atoms_to_pybel import atoms_to_pybel as a2p\n",
    "from openbabel import pybel\n",
    "pybel.ipython_3d = True\n",
    "\n",
    "\n",
    "#Either use the built-in function of ASE to build bulk crystal structures \n",
    "#Si=bulk('Si',crystalstructure='fcc',a=5.5, cubic=1)#.repeat((2,2,2)) #by defatul this creates a primitive (non-orthogonal) unit cell for the given material, by adding cubic or orthorhombic options to get the othogonal (non-primitive) unit cells\n",
    "\n",
    "#Or use the structure you get from Materials Project database, check\n",
    "#https://materialsproject.org/materials/mp-149/\n",
    "Si=read('Part3_DFT/Si_mp-149_conventional_standard.cif')\n",
    "\n",
    "#Visualise the Si structure for fun!\n",
    "#view(Si, viewer='ngl')\n",
    "#view(Si, viewer='x3d')\n",
    "#a2p(Si)\n",
    "\n"
   ]
  },
  {
   "cell_type": "code",
   "execution_count": null,
   "metadata": {},
   "outputs": [],
   "source": [
    "#Let's set up a GPAW calculator and optimise the input geometry. \n",
    "#Now we switch to planeWaves (which allows us to also optimise the cell paramters by providing the Stress Tensor, which is not available with finitie difference or real-grid option)\n",
    "calc = GPAW(\n",
    "            #mode ='fd', #The default is finite difference,This means that the wave functions will be expanded on a real space grid. Other options are: 'pw' and 'lcao' \n",
    "            mode=PW(600), #we need to use planewaves to be able to claculate the stress hence the optimise the cell paramters.\n",
    "            #h=0.25, # basis set defined by a grid spacing in Angstrom\n",
    "            xc=\"PBE\", #choice of exchange-correlation functional\n",
    "            kpts=(6,6,6), #k-grid sampling: here we only pick a single K point (the Gamma point)\n",
    "            #because we want to describe oxygen as a single molecule\n",
    "           )\n",
    "\n",
    "\n",
    "#Now we \"pass\" the calculator to the ASE atoms instance for the o2 molecule\n",
    "Si.set_calculator(calc)\n",
    "\n",
    "#Now we calculate the total energy for O2 using the GPAW calculator with the chosen settings. Please note that this is a single-point energy calculation using the initial geometry as defined above.\n",
    "etot_Si = Si.get_potential_energy()\n",
    "print(\"initial E_tot\", etot_Si)\n",
    "\n",
    "#we import a geometry optimisation algorithm from ASE package (among many others available)\n",
    "from ase.optimize import BFGS\n",
    "\n",
    "#we now apply this BFGS to the Si Atoms object (which contains the GPAW calculator)\n",
    "dyn = BFGS(Si,trajectory='Si_opt.traj',restart='lbfgs.pckl')  \n",
    "\n",
    "#The ase.constraints.ExpCellFilter allows us to optimise cell parameters and atomic positions simultaneously. It does this by exposing the degrees of freedom to the optimiser as if they were additional positions — hence acting as a kind of filter. We use it by wrapping it around the atoms:\n",
    "#from ase.constraints import ExpCellFilter\n",
    "#dyn = BFGS(ExpCellFilter(Si),trajectory='Si_opt.traj',restart='lbfgs.pckl')  \n",
    "\n",
    "#we run the optimisation, but before that, we pipe the GPAW text output into a file, so we're not overwhelmed by the GPAW output\n",
    "calc.set(txt=\"Si_gpaw.txt\")\n",
    "dyn.run(fmax=0.05)\n",
    "#It might take a while (~1 min) to finish... Also note that if you run it again it will restart from the last point, so will take only one step to converge this time.\n",
    "\n",
    "etot_Si = Si.get_potential_energy() # let's update the new optimised o2 energy\n",
    "print(\"Final Etot\", etot_Si)"
   ]
  },
  {
   "cell_type": "code",
   "execution_count": null,
   "metadata": {},
   "outputs": [],
   "source": [
    "from ase.dft.dos import DOS\n",
    "import matplotlib.pyplot as plt\n",
    "\n",
    "#This part details and visualises the 1st Brioullin Zone (BZ) for the given input crystal structure\n",
    "print(Si.cell.get_bravais_lattice())\n",
    "lat = Si.cell.get_bravais_lattice()\n",
    "print(lat.description())\n",
    "lat.plot_bz(show=True)\n",
    "\n",
    "\n",
    "#The Fermi Level is computed automatically by GPAW and passed on to the ASE object.\n",
    "Ef=calc.get_fermi_level()\n",
    "print (\"Computed Ef: \",Ef)\n",
    "\n",
    "#Density of states (DOS) calculation using an equally distributed set of K points/vectors\n",
    "dos = DOS(calc, npts=100, width=0)\n",
    "energies = dos.get_energies()\n",
    "weights = dos.get_dos()\n",
    "ax = plt.gca()\n",
    "ax.plot(energies, weights)\n",
    "ax.set_xlabel('Energy [eV]')\n",
    "ax.set_ylabel('DOS [1/eV]')\n",
    "plt.show()\n",
    "\n",
    "#if special_path is set to None,then it will be automatically determined by ASE based on the symmetry of the Bravais lattice.\n",
    "path = Si.cell.bandpath('GXMRG', density=10) #as given in Materials Project\n",
    "#path = Si.cell.bandpath(None, npoints=100)\n",
    "print(path)\n",
    "\n",
    "#Now used the converged electron density from the DOS calculations and apply this subset of special high-symmetry K vectors\n",
    "calc.set(kpts=path, fixdensity=True, symmetry='off')\n",
    "\n",
    "Si.get_potential_energy()\n",
    "bs = calc.band_structure()\n",
    "\n",
    "\n",
    "fig = plt.figure(1, figsize=(7, 4))\n",
    "ax = fig.add_axes([.12, .07, .67, .85])\n",
    "\n",
    "bs.plot(ax=ax, emin=-4.0, emax=4.0,show=1)\n",
    "#bs.plot(ax=ax, show=1)\n",
    "\n",
    "dosax = fig.add_axes([.8, .07, .17, .85])\n",
    "dosax.fill_between(weights, energies, y2=0, color='grey',\n",
    "                   edgecolor='k', lw=1)\n",
    "#-Ef #shift Ef to the 0 energy level\n",
    "\n",
    "dosax.set_ylim(0, 4.0)\n",
    "dosax.set_yticks([])\n",
    "dosax.set_xticks([])\n",
    "dosax.set_xlabel(\"DOS\", fontsize=18)\n",
    "\n"
   ]
  },
  {
   "cell_type": "markdown",
   "metadata": {
    "nbgrader": {
     "grade": false,
     "grade_id": "cell-0e50e64c36407f68",
     "locked": true,
     "schema_version": 3,
     "solution": false,
     "task": false
    }
   },
   "source": [
    "Alright, so much for the basics. Let's get into the meat of things. Now we go through the two remaining parts:\n",
    "* <b>Part 1</b>: Calculating the adsorption energy of oxygen on diamond(110) with DFT\n",
    "* <b>Part 2</b>: Calculating stability phase diagrams for oxygen-covered diamond phases\n",
    "\n"
   ]
  },
  {
   "cell_type": "markdown",
   "metadata": {
    "nbgrader": {
     "grade": false,
     "grade_id": "cell-8f16fdb0db11698e",
     "locked": true,
     "schema_version": 3,
     "solution": false,
     "task": false
    }
   },
   "source": [
    "## Part 1: Calculating the adsorption energy of oxygen on diamond(110): "
   ]
  },
  {
   "cell_type": "markdown",
   "metadata": {
    "nbgrader": {
     "grade": false,
     "grade_id": "cell-1f7327ffce476153",
     "locked": true,
     "schema_version": 3,
     "solution": false,
     "task": false
    }
   },
   "source": [
    "Diamond, beyond being shiny and expensive in some of its variants, is an interesting material in chemistry and physics. Particularly for electrochemical applications, boron-doped diamond can be used as a versatile electrode material. Despite the decades of research work that exist on diamond and its bulk and surface properties, many details are not fully understood. For example the diamond(110) surface termination is known to be oxygen-terminated, but the nature of this termination is not fully clear. \n",
    "The following picture, shows some examples of possible oxygen functional groups that can sit on the carbon ridges that are exposed at the diamond(110) surface:\n",
    "\n",
    "<img src=\"./Part3_DFT/diamond.png\" width=\"100%\">\n",
    "Reference: Mackey et al., J. Phys. Chem. B 2001, 105, 3803-3812\n",
    "\n",
    "To resolve this, we need to model different possible surface terminations of diamond surfaces and study, which are the energetically most favorable ones. Let's start by taking a look at a clean diamond(110) surface.\n"
   ]
  },
  {
   "cell_type": "code",
   "execution_count": null,
   "metadata": {},
   "outputs": [],
   "source": [
    "#Importing common packages.\n",
    "from ase import Atoms\n",
    "from gpaw import GPAW\n",
    "from ase.io import read,write\n",
    "\n",
    "from ase.visualize import view\n",
    "from imolecule.atoms_to_pybel import atoms_to_pybel as a2p\n",
    "from openbabel import pybel\n",
    "pybel.ipython_3d = True\n"
   ]
  },
  {
   "cell_type": "code",
   "execution_count": null,
   "metadata": {},
   "outputs": [],
   "source": [
    "\n",
    "#The folder Part3_DFT/structures contains several different structure files that are preoptimised\n",
    "clean_diamond = read('Part3_DFT/structures/clean_bdd.in')\n",
    "#the file contains a minimal surface unit cell of diamond(110) with a few layers of carbon atoms\n",
    "\n",
    "\n",
    "#We can visualise the surface better by repeating it periodically in x and y direction\n",
    "#COMMENT OUT THE NEXT LINE\n",
    "#a2p(clean_diamond*[5,5,1])\n",
    "a2p(clean_diamond*[2,1,1])\n",
    "#a2p(clean_diamond)\n"
   ]
  },
  {
   "cell_type": "markdown",
   "metadata": {},
   "source": [
    "Here, one should note that ASE has very handy and versatile built-in tools for creating different types of material models (e.g. molecules, bulks, surfaces, nanotubes, nanoribbons, nanosheets, etc.). It is worth checking the ASE website (see <a href=\"https://wiki.fysik.dtu.dk/ase/ase/build/build.html\">this</a> and the links therein)."
   ]
  },
  {
   "cell_type": "code",
   "execution_count": null,
   "metadata": {},
   "outputs": [],
   "source": [
    "#Or you may prefer to use the built-in building tools within ASE...\n",
    "from ase.build import surface\n",
    "s1 = surface('C', (1, 1, 0), 3) #build 3 layers\n",
    "s1.center(vacuum=5, axis=2) #add a vacuum padding of 5A in each direction along the C axis\n",
    "clean_diamond=s1\n",
    "\n",
    "#view(clean_diamond, viewer=\"x3d\")\n",
    "a2p(clean_diamond)\n",
    "\n"
   ]
  },
  {
   "cell_type": "markdown",
   "metadata": {
    "nbgrader": {
     "grade": false,
     "grade_id": "cell-9c30ddd7bddc6554",
     "locked": true,
     "schema_version": 3,
     "solution": false,
     "task": false
    }
   },
   "source": [
    "As covered in Lecture 5, the adsorption energy per oxygen atom is defined as\n",
    "$$ E_{\\mathrm{ads}}=-\\frac{1}{N_O}\\left( E^{\\mathrm{slab}}_{\\mathrm{surf}}(N_O,N_M)-\\left( E^{\\mathrm{clean}}_{\\mathrm{surf}}(0,N_M) + \\frac{N_O}{2}E^{\\mathrm{total}}_{O_2}  \\right)  \\right) $$\n",
    "\n",
    "That means we need to calculate the energy of the isolated oxygen molecule, the clean diamond surface, and the oxygen-covered diamond surface. We already calculated the oxygen molecule, let's calculate the clean diamond surface energy."
   ]
  },
  {
   "cell_type": "code",
   "execution_count": null,
   "metadata": {
    "scrolled": true
   },
   "outputs": [],
   "source": [
    "#Let's set up a new calculator for the clean surface\n",
    "calc_clean = GPAW(h=0.25, #basis grid spacing\n",
    "             xc=\"PBE\", \n",
    "             kpts=(2,2,1), #a 2x2x1 Monkhorst-Pack grid. 2 k points in a1 and 2 k points in a2 direction\n",
    "                  #we dont need to do k sampling perpendicular to the surface, as we want this to be the \n",
    "                  #'non-periodic' surface direction\n",
    "           )\n",
    "\n",
    "\n",
    "clean_diamond.set_calculator(calc_clean)\n",
    "etot_clean = clean_diamond.get_potential_energy()\n",
    "print('etot_clean', etot_clean) #before the geometry optimisation\n",
    "#dont be surprised if the calculation takes a bit (still < 1min). You can follow the convergence in the output window\n",
    "\n",
    "\n",
    "#we import a geometry optimisation algorithm from ASE package (among many others available)\n",
    "from ase.optimize import BFGS\n",
    "#we apply it to the atoms object (which contains the GPAW calculator)\n",
    "dyn = BFGS(clean_diamond,trajectory='clean_opt.traj')  \n",
    "#we run the optimisation, but before that, we pipe the GPAW text output into a file, so we're not overwhelmed by the GPAW output\n",
    "calc_clean.set(txt=\"clean_gpaw.txt\")\n",
    "dyn.run(fmax=0.05)\n",
    "#It might take a while (~1 min) to finish... Also note that if you run it again it will restart from the last point, so will take only one step to converge this time.\n",
    "\n",
    "etot_clean = clean_diamond.get_potential_energy()\n",
    "print('etot_clean', etot_clean) #after the geometry optimisation\n"
   ]
  },
  {
   "cell_type": "markdown",
   "metadata": {
    "nbgrader": {
     "grade": false,
     "grade_id": "cell-7e750cda0e883199",
     "locked": true,
     "schema_version": 3,
     "solution": false,
     "task": false
    }
   },
   "source": [
    "Alright, now let's check out one of the oxygen-covered phases shown in the above figure. Let's start with a keto group. You'll find different preoptimised diamond structures in the folder Part3_DFT/structures/:"
   ]
  },
  {
   "cell_type": "code",
   "execution_count": null,
   "metadata": {},
   "outputs": [],
   "source": [
    "#We will use the pre-optimised models of the oxygenated diamond(110) surfaces, however you should be able to prepare them yourselves.\n",
    "diamond_ketone = read('Part3_DFT/structures/phase1.in')\n",
    "print(diamond_ketone) #pay attention to the chemical composition (you should expect an additional oxygen)\n",
    "\n",
    "#Visualise the structure\n",
    "#view(diamond_ketone,viewer='x3d')\n",
    "a2p(diamond_ketone)\n",
    "#You can repeat the unit cell for a better visibility\n",
    "#a2p(diamond_ketone*[5,5,1])\n",
    "\n"
   ]
  },
  {
   "cell_type": "code",
   "execution_count": null,
   "metadata": {},
   "outputs": [],
   "source": [
    "#Another way to create oxygenated diamond(110) surfaces is by using the built-in functions of ASE \n",
    "#We add an adsorbate (Oxygen atom), starting from the clean surface\n",
    "from ase.build import add_adsorbate\n",
    "\n",
    "print(clean_diamond)\n",
    "#As the 'add_adsorbate' function works ad hoc (i.e. does not return any variable), \n",
    "#we make a copy of clean_diamond not to spoil it. \n",
    "diamond_ketone = clean_diamond.copy() \n",
    "add_adsorbate(slab=diamond_ketone,adsorbate='O',height=1.0,position=(0,0)) \n",
    "#You need to fiddle around with the xy positions to create different oxygenated diamond surfaces\n",
    "#TASK: figure out how to add an O2 molecule using 'add_adsorbate' to create the peroxide-terminated surfaces.\n",
    "\n",
    "print(diamond_ketone) #pay attention to the chemical composition (you should expect an additional oxygen)\n",
    "\n",
    "#view(diamond_ketone,viewer='x3d')\n",
    "a2p(diamond_ketone)#*[5,5,1])\n",
    "\n",
    "#Another option for a more interactive modelling would be to use 'ase-gui' (GUI from the ASE package) \n",
    "#or external visualisation software (Avogadro, VESTA) \n"
   ]
  },
  {
   "cell_type": "markdown",
   "metadata": {},
   "source": [
    "Let's set up a new calculator for the keto phase slab..."
   ]
  },
  {
   "cell_type": "code",
   "execution_count": null,
   "metadata": {},
   "outputs": [],
   "source": [
    "calc = GPAW(h=0.25, \n",
    "             xc=\"PBE\", \n",
    "             kpts=(2,2,1), \n",
    "           )\n",
    "\n",
    "diamond_ketone.set_calculator(calc)\n",
    "etot_keto = diamond_ketone.get_potential_energy()\n",
    "print('etot_keto', etot_keto) #before the geometry optimisation\n",
    "\n",
    "#Don't forget to relax the geometry with your new DFT settings.\n",
    "\n",
    "#we import a geometry optimisation algorithm from ASE package (among many others available)\n",
    "from ase.optimize import BFGS\n",
    "#we apply it to the o2 molecule object (which contains the GPAW calculator)\n",
    "dyn = BFGS(diamond_ketone,trajectory='keto_opt.traj')  \n",
    "#we run the optimisation, but before that, we pipe the GPAW text output into a file, so we're not overwhelmed by the GPAW output\n",
    "calc.set(txt=\"keto_gpaw.txt\")\n",
    "dyn.run(fmax=0.05)\n",
    "#It might take a while (~5 min) to finish... Also note that if you run it again it will restart from the last point, so will take only one step to converge this time.\n",
    "\n",
    "etot_keto = diamond_ketone.get_potential_energy()\n",
    "print('etot_keto', etot_keto) #after the geometry optimisation\n"
   ]
  },
  {
   "cell_type": "code",
   "execution_count": null,
   "metadata": {},
   "outputs": [],
   "source": [
    "#Let's visualise the trajectory\n",
    "import ase.io\n",
    "steps=ase.io.read('keto_opt.traj',index=':') #read the trajectory from the .traj file, index option is needed for reading all time steps, by default last step is read.\n",
    "\n",
    "#a2p(steps)\n",
    "view(steps,viewer='ngl')\n",
    "#view(steps,viewer='x3d')"
   ]
  },
  {
   "cell_type": "markdown",
   "metadata": {
    "nbgrader": {
     "grade": false,
     "grade_id": "cell-8aae5772bc852afe",
     "locked": true,
     "schema_version": 3,
     "solution": false,
     "task": false
    }
   },
   "source": [
    "Now we can calculate the adsorption energy as defined by the equation above:"
   ]
  },
  {
   "cell_type": "code",
   "execution_count": null,
   "metadata": {},
   "outputs": [],
   "source": [
    "e_ads = -(etot_keto -(etot_clean+etot_o2/2) )\n",
    "print (\"e_ads\", e_ads)\n",
    "\n"
   ]
  },
  {
   "cell_type": "markdown",
   "metadata": {
    "nbgrader": {
     "grade": false,
     "grade_id": "cell-f3d7b56144cc1a34",
     "locked": true,
     "schema_version": 3,
     "solution": false,
     "task": false
    }
   },
   "source": [
    "The adsorption energy of this oxygen atom is about 1.84 eV per oxygen atom. We can also calculate this as adsorption energy per surface area by dividing by the surface area of the unit cell:"
   ]
  },
  {
   "cell_type": "code",
   "execution_count": null,
   "metadata": {},
   "outputs": [],
   "source": [
    "#The surface area of the unit cell is defined as the absolute value of the cross product between the a1 and a2 lattice vectors\n",
    "cell = diamond_ketone.get_cell()\n",
    "print(cell)\n",
    "a, b, c = cell\n",
    "#let's use the linear algebra operations in numpy for this\n",
    "import numpy as np\n",
    "area = np.linalg.norm(np.cross(a,b))\n",
    "print('area', area) #Angstroem\n",
    "#In this simple rectangular unit cell case, it would also have been enough to multiply 2.52 with 3.57\n",
    "print('area', a[0]*b[1])\n",
    "\n",
    "#The adsorption energy per surface area and oxygen atom is:\n",
    "print('e_ads per area %.2f eV/A' %(e_ads/area))"
   ]
  },
  {
   "cell_type": "markdown",
   "metadata": {
    "nbgrader": {
     "grade": false,
     "grade_id": "cell-8ec6deef49d41324",
     "locked": true,
     "schema_version": 3,
     "solution": false,
     "task": false
    }
   },
   "source": [
    "## Part 2: Calculating stability phase diagrams for different oxygen-covered diamond phases"
   ]
  },
  {
   "cell_type": "markdown",
   "metadata": {
    "nbgrader": {
     "grade": false,
     "grade_id": "cell-6bc63070fac6ecf4",
     "locked": true,
     "schema_version": 3,
     "solution": false,
     "task": false
    }
   },
   "source": [
    "Now that we have an adsorption energy, we can actually plot this as a function of chemical potential just as we discussed it in the lecture. Just as a reminder, here's the equation we use for that:\n",
    "\n",
    "$$ Δ𝐺^{\\mathrm{𝑎𝑑}} (Δ\\mu_𝑂)≈\\frac{𝑁_𝑂}{𝐴} 𝐸_{\\mathrm{ads}}+(𝑁_𝑀−𝑁_𝑀^′ ) 𝐸_M^{bulk}+\\frac{𝑁_𝑂}{𝐴} Δ\\mu_𝑂 (𝑇,𝑝) $$\n",
    "\n",
    "Let's plot this in a graph of $$ Δ𝐺^{\\mathrm{𝑎𝑑}} vs. Δ\\mu_𝑂 $$\n"
   ]
  },
  {
   "cell_type": "markdown",
   "metadata": {
    "nbgrader": {
     "grade": false,
     "grade_id": "cell-0244cb6c8583b786",
     "locked": true,
     "schema_version": 3,
     "solution": false,
     "task": false
    }
   },
   "source": [
    "We already have calculated the adsorption energy per surface area and oxygen atom:"
   ]
  },
  {
   "cell_type": "code",
   "execution_count": null,
   "metadata": {},
   "outputs": [],
   "source": [
    "print('e_ads per area', e_ads/area, 'eV/Angstrom')\n",
    "e_b = e_ads/area\n"
   ]
  },
  {
   "cell_type": "markdown",
   "metadata": {
    "nbgrader": {
     "grade": false,
     "grade_id": "cell-ee89492158decbe0",
     "locked": true,
     "schema_version": 3,
     "solution": false,
     "task": false
    }
   },
   "source": [
    "The adsorption free energy is a straight line with the y-intercept defined by the adsorption energy per surface area and oxygen atom and the gradient defined by $N_O/A$:"
   ]
  },
  {
   "cell_type": "code",
   "execution_count": null,
   "metadata": {},
   "outputs": [],
   "source": [
    "\n",
    "gradient = 1.0/area #1 oxygen atom per surface area\n",
    "print('gradient', gradient, '1/Angstrom')\n",
    "\n",
    "#You can also automate the procedure by finding the total number of atoms with a specific type (e.g. O in this case).\n",
    "N_O=len([at for at in diamond_ketone if at.symbol=='O'])\n",
    "gradient = N_O/area \n",
    "print('gradient', gradient, '1/Angstrom')\n"
   ]
  },
  {
   "cell_type": "markdown",
   "metadata": {
    "nbgrader": {
     "grade": false,
     "grade_id": "cell-4fd23ce0e5e5fb07",
     "locked": true,
     "schema_version": 3,
     "solution": false,
     "task": false
    }
   },
   "source": [
    "### Let's generate that phase diagram. Here, we need to use the above equation to generate adsorption free energy values at certain values of chemical potential:"
   ]
  },
  {
   "cell_type": "code",
   "execution_count": null,
   "metadata": {
    "scrolled": false
   },
   "outputs": [],
   "source": [
    "import matplotlib.pyplot as plt\n",
    "%matplotlib notebook \n",
    "#this gives us an interactive graph with a cross hair (using the standard MatPlotLib package)\n",
    "\n",
    "mu = np.arange(-2.50,0.1,0.1) # This generates mu values for the x-axis from -2.5 to 0 with a spacing of 0.1 eV\n",
    "\n",
    "#let's generate the y value for our plot for a given set of mu values\n",
    "#This is a very Pythonic (\"integrated and neat\") way to do that\n",
    "Gads = [ e_b+x*gradient for x in mu ] #We loop over all mu values (calling each value x) and calculate the G_ads value via the above equation\n",
    "\n",
    "################################################\n",
    "#PLOTTING ROUTINES\n",
    "\n",
    "plt.plot(mu,Gads, color='red',label='keto phase') #plot my vs. Gads\n",
    "\n",
    "#we should also plot the line for the clean surface, which is a straight horizontal line at 0\n",
    "plt.plot(mu, [0 for m in mu], color='black', label='clean surface')\n",
    "\n",
    "#Let's set the x and y ranges of the plot.\n",
    "#lets not forget that we want these plots to have inverted y axis, \n",
    "#because a bigger value means a more stable phase\n",
    "xmin=-2.5;xmax=0.0\n",
    "ymin=0.30;ymax=-0.10\n",
    "plt.ylim(ymin,ymax) \n",
    "plt.xlim(xmin,xmax)\n",
    "\n",
    "#We now assign the axis labels, and turn on the legend.\n",
    "plt.xlabel(r'chemical potential $\\Delta\\mu_O$ in eV') \n",
    "#by the way, this is how you get latex math into the label, dont forget the r in front\n",
    "plt.ylabel(r'adsorption free energy $\\Delta G^{ads}$ in eV')\n",
    "plt.legend()\n",
    "\n",
    "#We add labels of the phases manually to the plot (just for demonstration purposes, not needed for calculations)\n",
    "plt.text(xmin+0.1, 0.15,'clean surface') #add text to the graph\n",
    "plt.text(-e_ads+0.2, 0.15,'keto phase')\n",
    "\n",
    "#fancy area filling\n",
    "plt.fill([xmin,-e_ads, -e_ads, xmin],[xmax,xmax, ymin,ymin],'gray', alpha=0.3) # let's fill the surface area for the clean surface\n",
    "plt.fill([-e_ads,-e_ads,0.0,0.0],[ymin,0.0, Gads[-1],ymin],'b', alpha=0.3) #let's fill the surface area for phase 1 with a \n",
    "\n",
    "plt.axvline(-e_ads,color='gray',ls=':') #This is a vertical line to mark the intersection between the two phases"
   ]
  },
  {
   "cell_type": "markdown",
   "metadata": {
    "nbgrader": {
     "grade": false,
     "grade_id": "cell-638bfc4ef668cb62",
     "locked": true,
     "schema_version": 3,
     "solution": false,
     "task": false
    }
   },
   "source": [
    "We can see that the two curves cross at about -1.84 eV chemical potential. This is the point where the keto-terminated oxygenated diamond(110) surface becomes more stable than the clean diamond(110) surface.\n",
    "\n",
    "Of course, we should also try to find out which other phases exist and how stable they are. \n"
   ]
  },
  {
   "cell_type": "code",
   "execution_count": null,
   "metadata": {},
   "outputs": [],
   "source": []
  }
 ],
 "metadata": {
  "celltoolbar": "Create Assignment",
  "kernelspec": {
   "display_name": "Python 3",
   "language": "python",
   "name": "python3"
  },
  "language_info": {
   "codemirror_mode": {
    "name": "ipython",
    "version": 3
   },
   "file_extension": ".py",
   "mimetype": "text/x-python",
   "name": "python",
   "nbconvert_exporter": "python",
   "pygments_lexer": "ipython3",
   "version": "3.7.3"
  }
 },
 "nbformat": 4,
 "nbformat_minor": 2
}
