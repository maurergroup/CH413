{
 "cells": [
  {
   "cell_type": "markdown",
   "metadata": {
    "nbgrader": {
     "grade": false,
     "grade_id": "cell-4ba158673a862ad8",
     "locked": true,
     "schema_version": 3,
     "solution": false,
     "task": false
    }
   },
   "source": [
    "# CH413 Computational Workshop 3: \n",
    "# Predicting the stability of an oxygen-covered diamond(110) surface"
   ]
  },
  {
   "cell_type": "markdown",
   "metadata": {
    "nbgrader": {
     "grade": false,
     "grade_id": "cell-7161d605498db50d",
     "locked": true,
     "schema_version": 3,
     "solution": false,
     "task": false
    }
   },
   "source": [
    "**ATTENTION** This notebook contains the homework assignment that will be assessed (Part 3).\n",
    "\n",
    "This workshop has 3 parts.\n",
    "* Part 1: Calculating the adsorption energy of oxygen on diamond(110): \n",
    "* Part 2: Calculating stability phase diagrams for different oxygen-covered diamond phases \n",
    "* Part 3: Assessed Assignment\n",
    "\n",
    "The assessment contains a number of tasks, which are very similar to the workshop. You need to answer them in order to pass this part of the course. You have until **January 15th 2021 12pm (noon)** to complete this assessment, but **do not leave it to the last minute** Some of the DFT calculations that are required are very slow, so this will take some time. \n",
    "\n",
    "To save existing calculations, you can assign variables to the numbers you've already calculated. This way you don't have to recalculate everything if you take breaks.\n",
    "\n",
    "\n",
    "### IMPORTANT - how to use this notebook\n",
    "* This notebook is read-only, so **you do need to make a copy first (make sure to include your last name)**!\n",
    "* Write your answers in the designated markup boxes after the ``# YOUR ANSWER`` line\n",
    "* You need to **fill in the missing code parts as instructed below.**\n",
    "* You can create new code boxes, but discussion comments need to be written in the designated comment cells. This is required for full grading.\n",
    "* The notebook should not raise any errors, otherwise you won't be able to submit it via the system. So, double-check for the source of errors and ask for help if needed.\n",
    "\n",
    "\n",
    "<b>If you have any issues, contact Bora Karasulu (bora.karasulu@warwick.ac.uk)</b>"
   ]
  },
  {
   "cell_type": "markdown",
   "metadata": {
    "nbgrader": {
     "grade": false,
     "grade_id": "cell-2dec7871f68ec1cf",
     "locked": true,
     "schema_version": 3,
     "solution": false,
     "task": false
    }
   },
   "source": [
    "## Part 3: Assessed part of the Workshop"
   ]
  },
  {
   "cell_type": "markdown",
   "metadata": {
    "nbgrader": {
     "grade": false,
     "grade_id": "cell-a43b312d71a7d776",
     "locked": true,
     "points": 30,
     "schema_version": 3,
     "solution": false,
     "task": true
    }
   },
   "source": [
    "## TASK 1: Convergence testing\n",
    "\n",
    "\n",
    "As discussed in the lecture, we should check the convergence of this adsorption energy by varying the basis set cutoff (or equivalently the grid spacing, h) and by varying the k-points grid.\n",
    "\n",
    "1. Recalculate the energy of molecular gas phase oxygen, the clean surface, and the keto phase with different settings to study the convergence of the adsorption energy, first with basis set, and then with k-point.\n",
    "    * Vary the basis grid spacing between [0.25,0.20,0.15,0.10], Note: stick with 2x2x1 k-grid for the surfaces and a 1x1x1 grid for o2\n",
    "    * Vary the k-grid between [(1,1,1), (2,2,1), (3,3,1), (4,4,1)], Note: don't vary it for the o2 molecule, stick with 1x1x1\n",
    "    \n",
    "    If you think it is necessary, you should also explore points inbetween these settings\n",
    "    \n",
    "2. Generate two plots of\n",
    "$E_{ads}$ vs. basis (0.25,0.20,0.15,0.12) and $E_{ads}$ vs. k point (1,2,3,4)\n",
    "\n",
    "    Below you'll find some prepared functions that help you to plot the results. Pleae correctly label the axes.\n",
    "3. Discuss the convergence behavior and discuss in detail if any of the chosen settings would be numerically precise enough to predict the adsorption energy of different oxygen-diamond phases up to a precision of $\\pm$0.10 eV. (Note: Discuss the precision, not the method accuracy.)\n",
    "\n",
    "**Attention** Some of the calculations with higher-accuracy settings may run a few minutes and require a bit of patience\n",
    "\n",
    "You can add as many cells as you think you'll need, but please fill in your discussion in the labeled comments cell\n",
    "\n",
    "**Note:** Use only single point energies (i.e. do not optimise the geometries with each setting you pick) in order to limit the computational efforts and the time needed to finish the tasks. However, please keep in mind that you need to utilise optimised geometries when producing final plots in Task 2 (e.g. phase diagrams)."
   ]
  },
  {
   "cell_type": "code",
   "execution_count": null,
   "metadata": {},
   "outputs": [],
   "source": [
    "from ase import Atoms\n",
    "from ase.visualize import view\n",
    "from ase.io import read\n",
    "from gpaw import GPAW\n",
    "#from imolecule.atoms_to_pybel import atoms_to_pybel as a2p\n",
    "#from openbabel import pybel\n",
    "#pybel.ipython_3d = True"
   ]
  },
  {
   "cell_type": "code",
   "execution_count": null,
   "metadata": {},
   "outputs": [],
   "source": [
    "#####calculations, use multiple cells####\n",
    "\n",
    "\n",
    "basis = [0.25,0.20,0.15,0.10,0.075,0.05] # h values, feel free to also explore points inbetween\n",
    "Eads_basis = []\n",
    "\n",
    "####FILL IN\n",
    "#for b in basis:\n",
    "\n",
    "\n",
    "\n",
    "\n",
    "####FILL IN\n",
    "\n"
   ]
  },
  {
   "cell_type": "code",
   "execution_count": null,
   "metadata": {},
   "outputs": [],
   "source": [
    "####Basis Convergence Plotting#####\n",
    "import numpy as np\n",
    "\n",
    "from matplotlib import pyplot as plt\n",
    "%matplotlib notebook \n",
    "\n",
    "#plt.ylim(low, high)\n",
    "### ylabel\n"
   ]
  },
  {
   "cell_type": "code",
   "execution_count": null,
   "metadata": {},
   "outputs": [],
   "source": [
    "\n",
    "ks = [1,2,3,4] # feel free to also explore points inbetween\n",
    "Eads_ks = []\n",
    "####FILL IN\n",
    "#for k in ks:\n",
    "\n",
    "    \n",
    "####FILL IN\n",
    "    "
   ]
  },
  {
   "cell_type": "code",
   "execution_count": null,
   "metadata": {},
   "outputs": [],
   "source": [
    "####K point Convergence Plotting#####\n",
    "\n",
    "####FILL IN\n",
    "import numpy as np\n",
    "\n",
    "from matplotlib import pyplot as plt\n",
    "%matplotlib notebook \n",
    "\n",
    "\n",
    "\n",
    "\n"
   ]
  },
  {
   "cell_type": "markdown",
   "metadata": {
    "nbgrader": {
     "grade": false,
     "grade_id": "cell-58c40bec15334afd",
     "locked": true,
     "schema_version": 3,
     "solution": false,
     "task": false
    }
   },
   "source": [
    "**DISCUSSION OF RESULTS for TASK 1**\n",
    "\n",
    "\n",
    "Enter discussion text below where it says \"YOUR ANSWER\" by double clicking. \n",
    "Use Markdown and Latex syntax, where necessary. Google 'Markdown cheatsheet'"
   ]
  },
  {
   "cell_type": "markdown",
   "metadata": {
    "nbgrader": {
     "grade": true,
     "grade_id": "cell-a5ee57da5e97df1e",
     "locked": false,
     "points": 10,
     "schema_version": 3,
     "solution": true,
     "task": false
    }
   },
   "source": [
    "#### YOUR ANSWER: PLEASE DOUBLE CLICK HERE AND ENTER TEXT USING LATEX and Markdown\n",
    "\n"
   ]
  },
  {
   "cell_type": "markdown",
   "metadata": {
    "nbgrader": {
     "grade": false,
     "grade_id": "cell-108559ed3c2f29bd",
     "locked": true,
     "points": 40,
     "schema_version": 3,
     "solution": false,
     "task": true
    }
   },
   "source": [
    "## Task 2: Phase Diagram of various oxygen-covered diamond(110) surfaces\n",
    "\n",
    "In addition to the structure discussed in Parts 1 and 2 of this workshop (phase1.in, see below), there are many other possible oxygen terminations.\n",
    "\n",
    "1. Visualise the additional oxygen terminated phases provided in Part3_DFT folder and calculate the surface area and number of oxygen-atoms-per-surface-area ratio for each.\n",
    "   * phase1.in (keto phase with 1 oxygen atom per unit cell)\n",
    "   * phase2.in (keto phase with 2 oxygen atoms per unit cell)\n",
    "   * phase3.in (3-ring epoxide phase)\n",
    "   * phase4.in (5-ring ether phase)\n",
    "   * phase5.in (peroxo phase)\n",
    "   \n",
    "\n",
    "2. Use the settings that you have identified in Task 1 to calculate the adsorption energies for all 4 phases (1,2,4,5)\n",
    "\n",
    "3. Plot the phase diagram of adsorption free energy ($\\Delta G^{ad}$) vs. change in chemical potential ($\\Delta\\mu_O$). \n",
    "   \n",
    "   **Note**: In all cases, the number of carbon atoms is the same, so the contribution from the change in bulk atoms can be ignored.\n",
    "   \n",
    "4. Identify the most stable phases for each region of chemical potential. Note and discuss this in a comment cell\n",
    "\n",
    "5. Translate the phase diagram for a change in chemical potential to a Temperature vs. Pressure phase diagram in the temperature range of 100 K to 1200K and pressure range of 10E-9 atm to 1atm.\n",
    "\n",
    "   Do this using following expression: \n",
    "   $$ \\Delta\\mu(T,p)= a\\cdot T^4+b\\cdot T^3+c\\cdot T^2+d\\cdot T+ e + \\frac{1}{2}k_BT\\ln{\\frac{p}{p^0}}$$\n",
    "   where $T^0=298.15$ K and $p^0=1$ atm and $a=-4.231\\cdot 10^{-12}$ eV/K, $b=6.505\\cdot 10^{-9}$ eV/K, $c=-3.401\\cdot 10^{-6}$ eV/K, $d=-1.259\\cdot 10^{-3}$ eV, $e=-8.883\\cdot 10^{-2}$ eV\n",
    "   \n",
    "   Below is given a function that outputs the chemical potential corresponding to a given pair of T [in K] and p [in atm]\n",
    "\n",
    "6. Discuss all your results in detail and answer the following questions:\n",
    "   * What is the most stable phase at ambient pressure and temperature conditions?\n",
    "   * What happens when we heat the surface (assuming no kinetic barriers)?\n",
    "   * What happens when we leave the temperature constant and increase the pressure?\n",
    "   * In the oxygen on Pd(100) example, we also had a bulk oxide phase involved. What would be the 'bulk oxide' for diamond? In view of your current calculations, under which conditions would this bulk oxide become relevant?\n"
   ]
  },
  {
   "cell_type": "code",
   "execution_count": 1,
   "metadata": {
    "nbgrader": {
     "grade": false,
     "grade_id": "cell-9bc38a7c3749e02d",
     "locked": true,
     "schema_version": 3,
     "solution": false,
     "task": false
    }
   },
   "outputs": [
    {
     "name": "stdout",
     "output_type": "stream",
     "text": [
      "-1.2118475999999998\n"
     ]
    }
   ],
   "source": [
    "def deltamu_Tp(T,p):\n",
    "    \"\"\"\n",
    "    takes T in Kelvin and p in atm and converts to Delta mu in eV\n",
    "    The function is a polynomial fit based on the data provided here:\n",
    "    https://janaf.nist.gov/tables/O-029.html\n",
    "    \n",
    "    Use this function to translate T and P values into delta mu values.\n",
    "    \"\"\"\n",
    "    from math import log\n",
    "    a = -4.231E-12\n",
    "    b =  6.505E-09\n",
    "    c = -3.401E-06\n",
    "    d = -1.259E-03\n",
    "    e = -8.883E-02\n",
    "    kB = 8.6173E-05\n",
    "    \n",
    "    mu_Tp0 = a*(T**4)+b*(T**3)+c*(T**2)+d*T+e\n",
    "    mu_Tp = mu_Tp0 + 0.5*T*kB*log(p) \n",
    "    return mu_Tp\n",
    "\n",
    "#### Example: The value of chemical potential at 600K and standard pressure is \n",
    "print(deltamu_Tp(600,1))"
   ]
  },
  {
   "cell_type": "code",
   "execution_count": null,
   "metadata": {},
   "outputs": [],
   "source": [
    "#Task 2.1 #VISUALISATION and the gradient calculation\n",
    "\n",
    "\n",
    "\n",
    "#view3d = a2p(INSERT STRUCTURE)\n",
    "#view3d"
   ]
  },
  {
   "cell_type": "code",
   "execution_count": null,
   "metadata": {},
   "outputs": [],
   "source": [
    "#Task 2.2 #Adsorption energy calculations for all phases\n",
    "\n",
    "#o2\n",
    "\n",
    "\n",
    "#clean diamond\n",
    "\n",
    "\n",
    "#different phases\n",
    "\n"
   ]
  },
  {
   "cell_type": "code",
   "execution_count": null,
   "metadata": {},
   "outputs": [],
   "source": [
    "#collect all adsorption energies, gradients and other values you'll need\n",
    "\n"
   ]
  },
  {
   "cell_type": "code",
   "execution_count": null,
   "metadata": {},
   "outputs": [],
   "source": [
    "#Task2.3  ###Phase diagram plot G vs. mu\n",
    "\n",
    "import matplotlib.pyplot as plt\n",
    "%matplotlib notebook \n",
    "#this gives us an interactive graph with a cross hair\n",
    "\n"
   ]
  },
  {
   "cell_type": "markdown",
   "metadata": {
    "nbgrader": {
     "grade": false,
     "grade_id": "cell-6d8e733edc1e8caf",
     "locked": true,
     "schema_version": 3,
     "solution": false,
     "task": false
    }
   },
   "source": [
    "**Task 2.4 Identify the most stable phases for each region of chemical potential (mu_O2). Note and discuss this in the next comment cell**\n",
    "\n",
    "Enter discussion text below where it says \"YOUR ANSWER\" by double clicking. \n",
    "\n",
    "mu range -X.0 - -Y.0 : Phase X is most stable\n",
    "etc...\n",
    "\n"
   ]
  },
  {
   "cell_type": "markdown",
   "metadata": {
    "nbgrader": {
     "grade": true,
     "grade_id": "cell-3dbf517970042989",
     "locked": false,
     "points": 10,
     "schema_version": 3,
     "solution": true,
     "task": false
    }
   },
   "source": [
    "#### YOUR ANSWER: PLEASE DOUBLE CLICK HERE AND ENTER TEXT USING LATEX and Markdown\n"
   ]
  },
  {
   "cell_type": "code",
   "execution_count": null,
   "metadata": {},
   "outputs": [],
   "source": [
    "#Task 2.5 ####Translate phase diagram into T vs. p diagram\n",
    "#HINT: First, generate values of mu for a range of temperatures (100, 200, etc. steps of hundred) and \n",
    "#pressures (10E-9,10E-8, etc. logarithmic)\n",
    "\n",
    "#Generate a two-dimensional numpy array of mu values mu = np.zeros[(N_temps,N_pressures)] and fill it with mu values.\n",
    "#For example:\n",
    "import numpy as np\n",
    "import matplotlib.pyplot as plt\n",
    "x, y = np.meshgrid([T1,T2,T3,...], [....])\n",
    "z = deltamu_Tp(x,y)\n",
    "##Now assign each value of mu with a number identifier for the phase (1,2,3,...)\n",
    "\n",
    "\n",
    "\n",
    "\n",
    "#Check out following examples to learn how to plot a contour plot\n",
    "#   https://matplotlib.org/examples/pylab_examples/contour_demo.html\n",
    "#   https://matplotlib.org/gallery/images_contours_and_fields/contour_corner_mask.html\n",
    "    \n",
    "\n",
    "\n"
   ]
  },
  {
   "cell_type": "markdown",
   "metadata": {
    "nbgrader": {
     "grade": false,
     "grade_id": "cell-7b363988c25c6c2c",
     "locked": true,
     "schema_version": 3,
     "solution": false,
     "task": false
    }
   },
   "source": [
    "**Task 2.6 DISCUSSION OF RESULTS**\n",
    "\n",
    "   * What is the most stable phase at ambient pressure and temperature conditions?\n",
    "   * What happens when we heat the surface (assuming no kinetic barriers)?\n",
    "   * What happens when we leave the temperature constant and increase the pressure?\n",
    "   * In the oxygen on Pd(100) example, we also had a bulk oxide phase involved. What would be the 'bulk oxide' for diamond? Under which conditions would this bulk oxide become relevant?\n",
    "\n",
    "Enter discussion text below where it says \"YOUR ANSWER\" by double clicking. \n",
    "Use Markdown and Latex syntax, where necessary."
   ]
  },
  {
   "cell_type": "markdown",
   "metadata": {
    "nbgrader": {
     "grade": true,
     "grade_id": "cell-4cb78d8045852001",
     "locked": false,
     "points": 10,
     "schema_version": 3,
     "solution": true,
     "task": false
    }
   },
   "source": [
    "#### YOUR ANSWER: PLEASE DOUBLE CLICK HERE AND ENTER TEXT USING LATEX and Markdown\n",
    "\n",
    "\n"
   ]
  },
  {
   "cell_type": "code",
   "execution_count": null,
   "metadata": {},
   "outputs": [],
   "source": []
  }
 ],
 "metadata": {
  "celltoolbar": "Create Assignment",
  "kernelspec": {
   "display_name": "Python 3",
   "language": "python",
   "name": "python3"
  },
  "language_info": {
   "codemirror_mode": {
    "name": "ipython",
    "version": 3
   },
   "file_extension": ".py",
   "mimetype": "text/x-python",
   "name": "python",
   "nbconvert_exporter": "python",
   "pygments_lexer": "ipython3",
   "version": "3.7.3"
  }
 },
 "nbformat": 4,
 "nbformat_minor": 2
}
